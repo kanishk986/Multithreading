{
 "cells": [
  {
   "cell_type": "markdown",
   "metadata": {},
   "source": [
    "## Q1 )What is multithreading in python? Why is it used? Name the module used to handle threads in python"
   ]
  },
  {
   "cell_type": "markdown",
   "metadata": {},
   "source": [
    "Multithreading is used to run a concurrent threads in python ,it helps to reduce the idle time of the CPU by switching between the threads and increase the efficiency of CPU"
   ]
  },
  {
   "cell_type": "markdown",
   "metadata": {},
   "source": [
    "Two module used for threading are :\n",
    "\n",
    "Thread\n",
    "\n",
    "Threading"
   ]
  },
  {
   "cell_type": "markdown",
   "metadata": {},
   "source": [
    "# Q2 Why threading module used? Write the use of the following functions\n",
    "\n",
    " activeCount\n",
    " \n",
    " currentThread\n",
    " \n",
    " enumerate)"
   ]
  },
  {
   "cell_type": "markdown",
   "metadata": {},
   "source": [
    "Threading module is used to create thread in python\n",
    "program to run code concurrently "
   ]
  },
  {
   "cell_type": "markdown",
   "metadata": {},
   "source": [
    "### 1) activeCount"
   ]
  },
  {
   "cell_type": "markdown",
   "metadata": {},
   "source": [
    "activeCount is used to know the count of currently active threads in the system"
   ]
  },
  {
   "cell_type": "markdown",
   "metadata": {},
   "source": [
    "### 2) currentThread"
   ]
  },
  {
   "cell_type": "markdown",
   "metadata": {},
   "source": [
    "currentThread function is inbuilt function that returns the object of currently active thread"
   ]
  },
  {
   "cell_type": "markdown",
   "metadata": {},
   "source": [
    "### 3) enumerate"
   ]
  },
  {
   "cell_type": "markdown",
   "metadata": {},
   "source": [
    "enumerate function returns the list of all the threads alive in the system\n"
   ]
  },
  {
   "cell_type": "markdown",
   "metadata": {},
   "source": [
    "# Q3. Explain the following functions\n",
    "\n",
    " run\n",
    " \n",
    " start\n",
    " \n",
    " join\n",
    " \n",
    " isAlive"
   ]
  },
  {
   "cell_type": "markdown",
   "metadata": {},
   "source": [
    "### 1) Run()"
   ]
  },
  {
   "cell_type": "markdown",
   "metadata": {},
   "source": [
    "It is used to represent the thread activity.Run() method is useed to call the function mentioned as the target along with the args mentioned "
   ]
  },
  {
   "cell_type": "markdown",
   "metadata": {},
   "source": [
    "### 2) Start()"
   ]
  },
  {
   "cell_type": "markdown",
   "metadata": {},
   "source": [
    "After creating the object of thread start() method is used to execute the thread"
   ]
  },
  {
   "cell_type": "markdown",
   "metadata": {},
   "source": [
    "### 3) join()"
   ]
  },
  {
   "cell_type": "markdown",
   "metadata": {},
   "source": [
    "On invoking the join() method, the calling thread gets blocked until the thread object (on which the thread is called) gets terminated."
   ]
  },
  {
   "cell_type": "markdown",
   "metadata": {},
   "source": [
    "### 4) isAlive()"
   ]
  },
  {
   "cell_type": "markdown",
   "metadata": {},
   "source": [
    "This method is used to check whether a thread is running or not\n"
   ]
  },
  {
   "cell_type": "markdown",
   "metadata": {},
   "source": [
    "## Q4. Write a python program to create two threads. Thread one must print the list of squares and thread two must print the list of cubes"
   ]
  },
  {
   "cell_type": "code",
   "execution_count": 24,
   "metadata": {},
   "outputs": [],
   "source": [
    "import threading"
   ]
  },
  {
   "cell_type": "code",
   "execution_count": 25,
   "metadata": {},
   "outputs": [],
   "source": [
    "def Square(l):\n",
    "        print(l*l)\n",
    "    \n",
    "    \n",
    "def Cube(l):\n",
    "    print(l*l*l)\n",
    "    "
   ]
  },
  {
   "cell_type": "code",
   "execution_count": 26,
   "metadata": {},
   "outputs": [],
   "source": [
    "list=[1,2,3,4,5]"
   ]
  },
  {
   "cell_type": "code",
   "execution_count": 27,
   "metadata": {},
   "outputs": [],
   "source": [
    "thread1=[threading.Thread(target=Square,args=(i,)) for i in list]\n",
    "thread2=[threading.Thread(target=Cube,args=(i,))for i in list]"
   ]
  },
  {
   "cell_type": "code",
   "execution_count": 28,
   "metadata": {},
   "outputs": [
    {
     "name": "stdout",
     "output_type": "stream",
     "text": [
      "14\n",
      "\n",
      "9\n",
      "16\n",
      "25\n",
      "18\n",
      "27\n",
      "\n",
      "64\n",
      "125\n"
     ]
    }
   ],
   "source": [
    "for i in thread1:\n",
    "    i.start()\n",
    "for j in thread2:\n",
    "    j.start()"
   ]
  },
  {
   "cell_type": "code",
   "execution_count": 29,
   "metadata": {},
   "outputs": [
    {
     "data": {
      "text/plain": [
       "[<Thread(Thread-24, stopped 13012066304)>,\n",
       " <Thread(Thread-25, stopped 13028855808)>,\n",
       " <Thread(Thread-26, stopped 13028855808)>,\n",
       " <Thread(Thread-27, stopped 13012066304)>,\n",
       " <Thread(Thread-28, stopped 13028855808)>]"
      ]
     },
     "execution_count": 29,
     "metadata": {},
     "output_type": "execute_result"
    }
   ],
   "source": [
    "thread1"
   ]
  },
  {
   "cell_type": "markdown",
   "metadata": {},
   "source": [
    "## Q5. State advantages and disadvantages of multithreading"
   ]
  },
  {
   "cell_type": "markdown",
   "metadata": {},
   "source": [
    "### Advantages"
   ]
  },
  {
   "cell_type": "markdown",
   "metadata": {},
   "source": [
    "1) Increases the performance of CPU\n",
    "\n",
    "2) Simultaneous and parallelized occurrence of tasks\n",
    "\n",
    "3)Better use of cache storage by utilization of resources"
   ]
  },
  {
   "cell_type": "markdown",
   "metadata": {},
   "source": [
    "### Disadvantages"
   ]
  },
  {
   "cell_type": "markdown",
   "metadata": {},
   "source": [
    "1) Debugging becomes complex\n",
    "\n",
    "2)Unpredictable results\n",
    "\n",
    "3) Increased Difficulty level in writing program"
   ]
  },
  {
   "cell_type": "markdown",
   "metadata": {},
   "source": [
    "## Q6. Explain deadlocks and race conditions."
   ]
  },
  {
   "cell_type": "markdown",
   "metadata": {},
   "source": [
    "### Deadlock"
   ]
  },
  {
   "cell_type": "markdown",
   "metadata": {},
   "source": [
    "Deadlock occurs when process requires resources hold by some other process to complete its execution , meanwhile that other process rquires resources held by first process to complete its own execution ,at this time both the processes are waiting for resources held \n",
    "by other process to complete its execution "
   ]
  },
  {
   "cell_type": "markdown",
   "metadata": {},
   "source": [
    "### Race Condition"
   ]
  },
  {
   "cell_type": "markdown",
   "metadata": {},
   "source": [
    "A race condition occurs when two threads access a shared variable at the same time.The value of the thread that writes its value last is preserved, because the thread is writing over the value that the previous thread wrote."
   ]
  },
  {
   "cell_type": "code",
   "execution_count": null,
   "metadata": {},
   "outputs": [],
   "source": []
  }
 ],
 "metadata": {
  "kernelspec": {
   "display_name": "Python 3",
   "language": "python",
   "name": "python3"
  },
  "language_info": {
   "codemirror_mode": {
    "name": "ipython",
    "version": 3
   },
   "file_extension": ".py",
   "mimetype": "text/x-python",
   "name": "python",
   "nbconvert_exporter": "python",
   "pygments_lexer": "ipython3",
   "version": "3.8.5"
  }
 },
 "nbformat": 4,
 "nbformat_minor": 4
}
